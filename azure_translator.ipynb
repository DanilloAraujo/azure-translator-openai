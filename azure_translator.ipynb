{
  "nbformat": 4,
  "nbformat_minor": 0,
  "metadata": {
    "colab": {
      "provenance": [],
      "authorship_tag": "ABX9TyOpW9ceirTcjDpVGNiy3puw"
    },
    "kernelspec": {
      "name": "python3",
      "display_name": "Python 3"
    },
    "language_info": {
      "name": "python"
    }
  },
  "cells": [
    {
      "cell_type": "code",
      "execution_count": 24,
      "metadata": {
        "colab": {
          "base_uri": "https://localhost:8080/"
        },
        "id": "eB7kmlJZrtHs",
        "outputId": "b25b17c3-c8b9-4526-c21d-7f66871e80f3"
      },
      "outputs": [
        {
          "output_type": "stream",
          "name": "stdout",
          "text": [
            "Requirement already satisfied: requests in /usr/local/lib/python3.10/dist-packages (2.32.3)\n",
            "Requirement already satisfied: python-docx in /usr/local/lib/python3.10/dist-packages (1.1.2)\n",
            "Requirement already satisfied: charset-normalizer<4,>=2 in /usr/local/lib/python3.10/dist-packages (from requests) (3.4.0)\n",
            "Requirement already satisfied: idna<4,>=2.5 in /usr/local/lib/python3.10/dist-packages (from requests) (3.10)\n",
            "Requirement already satisfied: urllib3<3,>=1.21.1 in /usr/local/lib/python3.10/dist-packages (from requests) (2.2.3)\n",
            "Requirement already satisfied: certifi>=2017.4.17 in /usr/local/lib/python3.10/dist-packages (from requests) (2024.8.30)\n",
            "Requirement already satisfied: lxml>=3.1.0 in /usr/local/lib/python3.10/dist-packages (from python-docx) (4.9.4)\n",
            "Requirement already satisfied: typing-extensions>=4.9.0 in /usr/local/lib/python3.10/dist-packages (from python-docx) (4.12.2)\n"
          ]
        }
      ],
      "source": [
        "!pip install requests python-docx"
      ]
    },
    {
      "cell_type": "code",
      "source": [
        "# Configurações do Azure Translator\n",
        "subscription_key = 'SEU_AZURE_TRANSLATOR_SUBSCRIPTION_KEY'\n",
        "endpoint = 'https://api.cognitive.microsofttranslator.com/'\n",
        "region = 'SEU_REGION'  # ex: brazilsouth"
      ],
      "metadata": {
        "id": "1MFybKwgsK5T"
      },
      "execution_count": 25,
      "outputs": []
    },
    {
      "cell_type": "code",
      "source": [
        "import requests\n",
        "import json\n",
        "from docx import Document\n",
        "from docx.shared import Pt\n",
        "from IPython.display import display\n",
        "import ipywidgets as widgets\n",
        "from io import BytesIO\n",
        "import base64\n",
        "\n",
        "# Função para traduzir texto\n",
        "def translate_text(text, from_lang, to_lang):\n",
        "    path = '/translate'\n",
        "    constructed_url = endpoint + path\n",
        "\n",
        "    headers = {\n",
        "        'Ocp-Apim-Subscription-Key': subscription_key,\n",
        "        'Ocp-Apim-Subscription-Region': region,\n",
        "        'Content-type': 'application/json',\n",
        "    }\n",
        "\n",
        "    body = [{\n",
        "        'text': text\n",
        "    }]\n",
        "\n",
        "    params = {\n",
        "        'api-version': '3.0',\n",
        "        'from': from_lang,\n",
        "        'to': [to_lang]\n",
        "    }\n",
        "\n",
        "    response = requests.post(constructed_url, headers=headers, params=params, json=body)\n",
        "    response.raise_for_status()\n",
        "\n",
        "    translation = response.json()\n",
        "    return translation[0]['translations'][0]['text']\n",
        "\n",
        "# Função para carregar e traduzir um documento docx\n",
        "def translate_document(file_path, from_lang, to_lang):\n",
        "    doc = Document(file_path)\n",
        "    translated_doc = Document()\n",
        "\n",
        "    for paragraph in doc.paragraphs:\n",
        "        if paragraph.text:\n",
        "            translated_text = translate_text(paragraph.text, from_lang, to_lang)\n",
        "            new_paragraph = translated_doc.add_paragraph(translated_text)\n",
        "            new_paragraph.style.font.size = Pt(12)\n",
        "\n",
        "    # Salva o documento traduzido em memória para permitir download\n",
        "    buffer = BytesIO()\n",
        "    translated_doc.save(buffer)\n",
        "    buffer.seek(0)\n",
        "\n",
        "    return buffer\n",
        "\n",
        "# Função para criar um link de download do arquivo em memória\n",
        "def create_download_link(buffer, filename):\n",
        "    # Converte o conteúdo do arquivo em base64\n",
        "    b64 = base64.b64encode(buffer.getvalue()).decode()\n",
        "    href = f'<a download=\"{filename}\" href=\"data:application/vnd.openxmlformats-officedocument.wordprocessingml.document;base64,{b64}\">Clique aqui para baixar o arquivo traduzido</a>'\n",
        "    return widgets.HTML(value=href)\n",
        "\n",
        "# Widgets para a interface de upload de arquivo e seleção de idiomas\n",
        "file_upload = widgets.FileUpload(description=\"Upload do Documento (.docx)\", accept='.docx')\n",
        "from_lang = widgets.Text(description=\"Idioma de Origem:\", value=\"en\")\n",
        "to_lang = widgets.Text(description=\"Idioma de Destino:\", value=\"es\")\n",
        "translate_button = widgets.Button(description=\"Traduzir\")\n",
        "output = widgets.Output()\n",
        "alert = widgets.Label(value=\"\")\n",
        "\n",
        "# Função de alerta ao carregar o arquivo\n",
        "def on_file_upload_change(change):\n",
        "    if file_upload.value:\n",
        "        alert.value = \"Arquivo carregado com sucesso! Pronto para tradução.\"\n",
        "\n",
        "# Função de tradução ao clicar no botão\n",
        "def on_translate_button_clicked(b):\n",
        "    with output:\n",
        "        output.clear_output()\n",
        "        if file_upload.value:\n",
        "            # Extrai o arquivo do widget de upload\n",
        "            file_info = next(iter(file_upload.value.values()))\n",
        "            file_path = BytesIO(file_info['content'])\n",
        "\n",
        "            # Traduz o documento\n",
        "            translated_file = translate_document(file_path, from_lang.value, to_lang.value)\n",
        "\n",
        "            # Cria o link de download direto em memória\n",
        "            filename = f\"traduzido_{file_info['metadata']['name']}\"\n",
        "            download_link = create_download_link(translated_file, filename)\n",
        "\n",
        "            # Exibe o link de download\n",
        "            display(download_link)\n",
        "        else:\n",
        "            print(\"Por favor, faça o upload de um documento .docx\")\n",
        "\n",
        "# Conecta a função ao botão de tradução e alerta de carregamento\n",
        "file_upload.observe(on_file_upload_change, names='value')\n",
        "translate_button.on_click(on_translate_button_clicked)\n",
        "\n",
        "# Exibe widgets e output\n",
        "display(file_upload, alert, from_lang, to_lang, translate_button, output)\n"
      ],
      "metadata": {
        "id": "GcD9qGhqEY5o"
      },
      "execution_count": null,
      "outputs": []
    }
  ]
}