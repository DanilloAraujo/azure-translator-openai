{
  "nbformat": 4,
  "nbformat_minor": 0,
  "metadata": {
    "colab": {
      "provenance": [],
      "authorship_tag": "ABX9TyPWPx6x28PJ/tvW5yxrmTWx"
    },
    "kernelspec": {
      "name": "python3",
      "display_name": "Python 3"
    },
    "language_info": {
      "name": "python"
    }
  },
  "cells": [
    {
      "cell_type": "code",
      "execution_count": null,
      "metadata": {
        "id": "aUxedjlIVG2v"
      },
      "outputs": [],
      "source": [
        "!pip install requests beautifulsoup4 langchain-openai"
      ]
    },
    {
      "cell_type": "code",
      "source": [
        "# Instalando bibliotecas necessárias\n",
        "!pip install requests beautifulsoup4 langchain-openai\n",
        "\n",
        "# Importando bibliotecas\n",
        "import requests\n",
        "from bs4 import BeautifulSoup\n",
        "from langchain_openai.chat_models.azure import AzureChatOpenAI\n",
        "\n",
        "# Configurações do Azure OpenAI\n",
        "AZURE_OPENAI_API_KEY = 'sua_chave_api'\n",
        "AZURE_OPENAI_ENDPOINT = 'https://seu-recurso.openai.azure.com/'\n",
        "AZURE_OPENAI_DEPLOYMENT_NAME = 'nome_do_seu_modelo'\n",
        "AZURE_OPENAI_API_VERSION = '2024-08-01-preview'\n",
        "\n",
        "# Inicializando o cliente Azure OpenAI com o modelo de chat e a versão 2024-08-01-preview\n",
        "llm = AzureChatOpenAI(\n",
        "    azure_endpoint= AZURE_OPENAI_ENDPOINT,\n",
        "    api_key= AZURE_OPENAI_API_KEY,\n",
        "    api_version= AZURE_OPENAI_API_VERSION,\n",
        "    azure_deployment= AZURE_OPENAI_DEPLOYMENT_NAME,\n",
        "    max_retries=0\n",
        ")\n",
        "\n",
        "def get_clean_text_from_url(url):\n",
        "    \"\"\"Extrai e limpa o texto do artigo a partir da URL fornecida.\"\"\"\n",
        "    response = requests.get(url)\n",
        "    if response.status_code == 200:\n",
        "      soup = BeautifulSoup(response.text, 'html.parser')\n",
        "      for script_or_style in soup(['script', 'style']):\n",
        "        script_or_style.decompose()\n",
        "      texto = soup.get_text(separator= ' ')\n",
        "      #Limpar texto\n",
        "      linhas = (line.strip() for line in texto.splitlines())\n",
        "      parts = (phrase.strip() for line in linhas for phrase in line.split(' '))\n",
        "      texto_limpo = '\\n'.join(part for part in parts if part)\n",
        "      return texto_limpo\n",
        "    else:\n",
        "      print(f'Failed to fetch the URL. Status code: {response.status_code}')\n",
        "      return None\n",
        "    text = soup.get_text()\n",
        "    return text\n",
        "\n",
        "def translate_text(text, target_language):\n",
        "    \"\"\"Traduz o texto para o idioma solicitado pelo usuário usando Azure OpenAI.\"\"\"\n",
        "    prompt = f\"Translate the following text to {target_language}:\\n\\n{text}\"\n",
        "    response = llm(prompt)\n",
        "    return response\n",
        "\n",
        "def format_text_as_markdown(text):\n",
        "    \"\"\"Formata o texto em Markdown usando o Azure OpenAI para estruturação.\"\"\"\n",
        "    prompt = f\"Convert the following text into a well-structured Markdown format:\\n\\n{text}\"\n",
        "    response = llm(prompt)\n",
        "    return response\n",
        "\n",
        "# URL do artigo e idioma de destino\n",
        "url = input(\"Digite a URL do artigo: \")  # Permite que o usuário insira a URL do artigo\n",
        "target_language = input(\"Digite o idioma para tradução (ex: 'Portuguese', 'English', 'Spanish', etc.): \")  # Permite que o usuário escolha o idioma\n",
        "\n",
        "# 1. Obter o texto do artigo limpo\n",
        "article_text = get_clean_text_from_url(url)\n",
        "\n",
        "# 2. Traduzir o texto\n",
        "translated_text = translate_text(article_text, target_language)\n",
        "\n",
        "# 3. Formatar o texto em Markdown\n",
        "markdown_text = format_text_as_markdown(translated_text)\n",
        "\n",
        "# Exibindo o resultado\n",
        "print(\"Texto em Markdown:\\n\")\n",
        "print(markdown_text.content)"
      ],
      "metadata": {
        "id": "ZetGj8OCVa9n"
      },
      "execution_count": null,
      "outputs": []
    }
  ]
}